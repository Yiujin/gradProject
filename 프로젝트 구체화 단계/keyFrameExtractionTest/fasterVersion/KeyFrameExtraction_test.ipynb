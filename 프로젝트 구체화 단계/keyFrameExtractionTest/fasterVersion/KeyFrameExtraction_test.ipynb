{
 "cells": [
  {
   "cell_type": "code",
   "execution_count": 7,
   "metadata": {},
   "outputs": [],
   "source": [
    "import cv2\n",
    "import numpy as np\n",
    "from sklearn.preprocessing import MinMaxScaler\n",
    "from skimage.feature import greycomatrix,greycoprops"
   ]
  },
  {
   "cell_type": "code",
   "execution_count": 8,
   "metadata": {},
   "outputs": [],
   "source": [
    "img = cv2.imread('./test_chun1.jpeg',-1)\n",
    "img2 = cv2.imread('./test_chun2.jpeg',-1)\n",
    "img3 = cv2.imread('./test_jin.jpg',0)\n",
    "scaler = MinMaxScaler()"
   ]
  },
  {
   "cell_type": "code",
   "execution_count": 9,
   "metadata": {},
   "outputs": [],
   "source": [
    "hist = cv2.calcHist([img],[0],None,[256],[0,256])\n",
    "hist2 = cv2.calcHist([img2],[0],None,[256],[0,256])\n",
    "hist3 = cv2.calcHist([img3],[0],None,[256],[0,256])\n",
    "hist = cv2.normalize(hist,hist).flatten()\n",
    "hist2 = cv2.normalize(hist2,hist2).flatten()\n",
    "hist3 = cv2.normalize(hist3,hist3).flatten()"
   ]
  },
  {
   "cell_type": "code",
   "execution_count": 71,
   "metadata": {
    "scrolled": true
   },
   "outputs": [
    {
     "data": {
      "text/plain": [
       "12.30379649349561"
      ]
     },
     "execution_count": 71,
     "metadata": {},
     "output_type": "execute_result"
    }
   ],
   "source": [
    "x = cv2.compareHist(hist,hist2,cv2.HISTCMP_INTERSECT)\n",
    "x"
   ]
  },
  {
   "cell_type": "code",
   "execution_count": 72,
   "metadata": {},
   "outputs": [
    {
     "data": {
      "text/plain": [
       "8.434235603457637"
      ]
     },
     "execution_count": 72,
     "metadata": {},
     "output_type": "execute_result"
    }
   ],
   "source": [
    "x2 = cv2.compareHist(hist,hist3,cv2.HISTCMP_INTERSECT)\n",
    "x2"
   ]
  },
  {
   "cell_type": "code",
   "execution_count": 3,
   "metadata": {},
   "outputs": [],
   "source": [
    "from matplotlib import pyplot as plt"
   ]
  },
  {
   "cell_type": "code",
   "execution_count": 25,
   "metadata": {
    "scrolled": true
   },
   "outputs": [
    {
     "data": {
      "image/png": "[encoded data removed]",
      "text/plain": [
       "<Figure size 432x288 with 1 Axes>"
      ]
     },
     "metadata": {
      "needs_background": "light"
     },
     "output_type": "display_data"
    }
   ],
   "source": [
    "plt.hist(img.ravel(),256,[0,256]);\n",
    "plt.show()"
   ]
  },
  {
   "cell_type": "code",
   "execution_count": 26,
   "metadata": {},
   "outputs": [
    {
     "data": {
      "image/png": "[encoded data removed]",
      "text/plain": [
       "<Figure size 432x288 with 1 Axes>"
      ]
     },
     "metadata": {
      "needs_background": "light"
     },
     "output_type": "display_data"
    }
   ],
   "source": [
    "plt.hist(img2.ravel(),256,[0,256])\n",
    "plt.show()"
   ]
  },
  {
   "cell_type": "code",
   "execution_count": 27,
   "metadata": {},
   "outputs": [
    {
     "data": {
      "image/png": "[encoded data removed]",
      "text/plain": [
       "<Figure size 432x288 with 1 Axes>"
      ]
     },
     "metadata": {
      "needs_background": "light"
     },
     "output_type": "display_data"
    }
   ],
   "source": [
    "plt.hist(img3.ravel(),256,[0,256])\n",
    "plt.show()"
   ]
  },
  {
   "cell_type": "code",
   "execution_count": 29,
   "metadata": {},
   "outputs": [],
   "source": [
    "glcm= greycomatrix(img,[1],[0],symmetric = True,normed = True)\n",
    "glcm2 = greycomatrix(img2,[1],[0],symmetric = True,normed = True)\n",
    "glcm3 = greycomatrix(img3,[1],[0],symmetric = True,normed = True)"
   ]
  },
  {
   "cell_type": "code",
   "execution_count": 30,
   "metadata": {},
   "outputs": [
    {
     "data": {
      "text/plain": [
       "0.014879833860659279"
      ]
     },
     "execution_count": 30,
     "metadata": {},
     "output_type": "execute_result"
    }
   ],
   "source": [
    "np.sum((glcm - glcm2)**2)**0.5"
   ]
  },
  {
   "cell_type": "code",
   "execution_count": 31,
   "metadata": {
    "scrolled": true
   },
   "outputs": [
    {
     "data": {
      "text/plain": [
       "0.056278304324028895"
      ]
     },
     "execution_count": 31,
     "metadata": {},
     "output_type": "execute_result"
    }
   ],
   "source": [
    "np.sum((glcm2 - glcm3)**2)**0.5"
   ]
  },
  {
   "cell_type": "code",
   "execution_count": 32,
   "metadata": {},
   "outputs": [
    {
     "data": {
      "text/plain": [
       "0.06663271778663998"
      ]
     },
     "execution_count": 32,
     "metadata": {},
     "output_type": "execute_result"
    }
   ],
   "source": [
    "np.sum((glcm - glcm3)**2)**0.5"
   ]
  },
  {
   "cell_type": "code",
   "execution_count": 10,
   "metadata": {},
   "outputs": [],
   "source": [
    "def CombineSimilarity(img,centroid):\n",
    "    hist = cv2.calcHist([img],[0],None,[256],[0,256])\n",
    "    hist2 = [ cv2.calcHist([x],[0],None,[256],[0,256]) for x in img2 ]\n",
    "    hist = cv2.normalize(hist,hist).flatten()\n",
    "    hist2 = [ cv2.normalize(x,x).flatten() for x in hist2]\n",
    "    HisSimilarity = np.array([ cv2.compareHist(hist,x,cv2.HISTCMP_INTERSECT) for x in hist2])\n",
    "    \n",
    "    glcm= greycomatrix(cv2.cvtColor(img,cv2.COLOR_RGB2GRAY),[1],[0],symmetric = True,normed = True)\n",
    "    glcm2 = [ greycomatrix(cv2.cvtColor(x,cv2.COLOR_RGB2GRAY),[1],[0],symmetric = True,normed = True) for x in img2]\n",
    "    GLCMSimilarity = np.sum((glcm - glcm2)**2)**0.5\n",
    "    return 0.7*HisSimilarity + 0.3*GLCMSimilarity\n",
    "    "
   ]
  },
  {
   "cell_type": "code",
   "execution_count": 35,
   "metadata": {},
   "outputs": [],
   "source": [
    "def CombineSimilarity(img,centroid):\n",
    "    hist = cv2.calcHist([img],[0],None,[256],[0,256])\n",
    "    hist = cv2.normalize(hist,hist).flatten()\n",
    "    HisSimilarity = np.array([ cv2.compareHist(hist,x[1],cv2.HISTCMP_INTERSECT) for x in centroid])\n",
    "    \n",
    "    glcm= greycomatrix(cv2.cvtColor(img,cv2.COLOR_RGB2GRAY),[1],[0],symmetric = True,normed = True)\n",
    "    GLCMSimilarity = np.array([np.sum((glcm - x[2])**2)**0.5 for x in centroid])\n",
    "    return 0.7*HisSimilarity + 0.3*GLCMSimilarity"
   ]
  },
  {
   "cell_type": "code",
   "execution_count": 37,
   "metadata": {},
   "outputs": [],
   "source": [
    "def CombineSimilarity_single(img,img2):\n",
    "    hist = cv2.calcHist([img],[0],None,[256],[0,256])\n",
    "    hist2 = cv2.calcHist([img2],[0],None,[256],[0,256])\n",
    "    hist = cv2.normalize(hist,hist).flatten()\n",
    "    hist2 = cv2.normalize(hist2,hist2).flatten()\n",
    "    HisSimilarity = cv2.compareHist(hist,hist2,cv2.HISTCMP_INTERSECT)\n",
    "    print(HisSimilarity)\n",
    "    \n",
    "    glcm= greycomatrix(img,[1],[0],symmetric = True,normed = True)\n",
    "    glcm2 = greycomatrix(img2,[1],[0],symmetric = True,normed = True)\n",
    "    GLCMSimilarity = np.sum((glcm - glcm2)**2)**0.5\n",
    "    print(GLCMSimilarity)\n",
    "    return 0.7*HisSimilarity + 0.3*GLCMSimilarity"
   ]
  },
  {
   "cell_type": "code",
   "execution_count": 38,
   "metadata": {},
   "outputs": [
    {
     "name": "stdout",
     "output_type": "stream",
     "text": [
      "9.679427562602768\n",
      "0.014879833860659279\n"
     ]
    },
    {
     "data": {
      "text/plain": [
       "6.780063243980135"
      ]
     },
     "execution_count": 38,
     "metadata": {},
     "output_type": "execute_result"
    }
   ],
   "source": [
    "CombineSimilarity_single(img,img2)"
   ]
  },
  {
   "cell_type": "code",
   "execution_count": 39,
   "metadata": {},
   "outputs": [
    {
     "name": "stdout",
     "output_type": "stream",
     "text": [
      "7.18405067097865\n",
      "0.06663271778663998\n"
     ]
    },
    {
     "data": {
      "text/plain": [
       "5.048825285021047"
      ]
     },
     "execution_count": 39,
     "metadata": {},
     "output_type": "execute_result"
    }
   ],
   "source": [
    "CombineSimilarity_single(img,img3)"
   ]
  },
  {
   "cell_type": "code",
   "execution_count": 40,
   "metadata": {},
   "outputs": [
    {
     "name": "stdout",
     "output_type": "stream",
     "text": [
      "10.504233768672748\n",
      "0.0\n"
     ]
    },
    {
     "data": {
      "text/plain": [
       "7.352963638070923"
      ]
     },
     "execution_count": 40,
     "metadata": {},
     "output_type": "execute_result"
    }
   ],
   "source": [
    "CombineSimilarity_single(img,img)"
   ]
  },
  {
   "cell_type": "markdown",
   "metadata": {},
   "source": [
    "# video clustering"
   ]
  },
  {
   "cell_type": "code",
   "execution_count": 39,
   "metadata": {},
   "outputs": [
    {
     "name": "stdout",
     "output_type": "stream",
     "text": [
      "True\n",
      "True\n",
      "frame 1\n",
      "True\n",
      "True\n",
      "frame 2\n",
      "True\n",
      "True\n",
      "frame 3\n",
      "True\n",
      "True\n",
      "frame 4\n",
      "True\n",
      "True\n",
      "frame 5\n",
      "True\n",
      "True\n",
      "frame 6\n",
      "True\n",
      "True\n",
      "frame 7\n",
      "True\n",
      "True\n",
      "frame 8\n",
      "True\n",
      "True\n",
      "frame 9\n",
      "True\n",
      "True\n",
      "frame 10\n",
      "True\n",
      "True\n",
      "frame 11\n",
      "True\n",
      "True\n",
      "frame 12\n",
      "True\n",
      "True\n",
      "frame 13\n",
      "True\n",
      "True\n",
      "frame 14\n",
      "True\n",
      "True\n",
      "frame 15\n",
      "True\n",
      "True\n",
      "frame 16\n",
      "True\n",
      "True\n",
      "frame 17\n",
      "True\n",
      "True\n",
      "frame 18\n",
      "True\n",
      "True\n",
      "frame 19\n",
      "True\n",
      "True\n",
      "frame 20\n",
      "True\n",
      "True\n",
      "frame 21\n",
      "True\n",
      "True\n",
      "frame 22\n",
      "True\n",
      "True\n",
      "frame 23\n",
      "True\n",
      "True\n",
      "frame 24\n",
      "True\n",
      "True\n",
      "frame 25\n",
      "True\n",
      "True\n",
      "frame 26\n",
      "True\n",
      "True\n",
      "frame 27\n",
      "True\n",
      "True\n",
      "frame 28\n",
      "True\n",
      "True\n",
      "frame 29\n",
      "True\n",
      "True\n",
      "frame 30\n",
      "True\n",
      "True\n",
      "frame 31\n",
      "True\n",
      "True\n",
      "frame 32\n",
      "True\n",
      "True\n",
      "frame 33\n",
      "True\n",
      "True\n",
      "frame 34\n",
      "True\n",
      "True\n",
      "frame 35\n",
      "True\n",
      "True\n",
      "frame 36\n",
      "True\n",
      "True\n",
      "frame 37\n",
      "True\n",
      "True\n",
      "frame 38\n",
      "True\n",
      "True\n",
      "frame 39\n",
      "True\n",
      "True\n",
      "frame 40\n",
      "True\n",
      "True\n",
      "frame 41\n",
      "True\n",
      "True\n",
      "frame 42\n",
      "True\n",
      "True\n",
      "frame 43\n",
      "True\n",
      "True\n",
      "frame 44\n",
      "True\n",
      "True\n",
      "frame 45\n",
      "True\n",
      "True\n",
      "frame 46\n",
      "True\n",
      "True\n",
      "frame 47\n",
      "True\n",
      "True\n",
      "frame 48\n",
      "True\n",
      "True\n",
      "frame 49\n",
      "True\n",
      "True\n",
      "frame 50\n",
      "True\n",
      "True\n",
      "frame 51\n",
      "True\n",
      "True\n",
      "frame 52\n",
      "True\n",
      "True\n",
      "frame 53\n",
      "True\n",
      "True\n",
      "frame 54\n",
      "True\n",
      "True\n",
      "frame 55\n",
      "True\n",
      "True\n",
      "frame 56\n",
      "True\n",
      "True\n",
      "frame 57\n",
      "True\n",
      "True\n",
      "frame 58\n",
      "True\n",
      "True\n",
      "frame 59\n",
      "True\n",
      "True\n",
      "frame 60\n",
      "True\n",
      "True\n",
      "frame 61\n",
      "True\n",
      "True\n",
      "frame 62\n",
      "True\n",
      "True\n",
      "frame 63\n",
      "True\n",
      "True\n",
      "frame 64\n",
      "True\n",
      "True\n",
      "frame 65\n",
      "True\n",
      "True\n",
      "frame 66\n",
      "True\n",
      "True\n",
      "frame 67\n",
      "True\n",
      "True\n",
      "frame 68\n",
      "True\n",
      "True\n",
      "frame 69\n",
      "True\n",
      "True\n",
      "frame 70\n",
      "True\n",
      "True\n",
      "frame 71\n",
      "True\n",
      "True\n",
      "frame 72\n",
      "True\n",
      "True\n",
      "frame 73\n",
      "True\n",
      "True\n",
      "frame 74\n",
      "True\n",
      "True\n",
      "frame 75\n",
      "True\n",
      "True\n",
      "frame 76\n",
      "True\n",
      "True\n",
      "frame 77\n",
      "True\n",
      "True\n",
      "frame 78\n",
      "True\n",
      "True\n",
      "frame 79\n",
      "True\n",
      "True\n",
      "frame 80\n",
      "True\n",
      "True\n",
      "frame 81\n",
      "True\n",
      "True\n",
      "frame 82\n",
      "True\n",
      "True\n",
      "frame 83\n",
      "True\n",
      "True\n",
      "frame 84\n",
      "True\n",
      "True\n",
      "frame 85\n",
      "True\n",
      "True\n",
      "frame 86\n",
      "True\n",
      "True\n",
      "frame 87\n",
      "True\n",
      "True\n",
      "frame 88\n",
      "True\n",
      "True\n",
      "frame 89\n",
      "True\n",
      "True\n",
      "frame 90\n",
      "True\n",
      "True\n",
      "frame 91\n",
      "True\n",
      "True\n",
      "frame 92\n",
      "True\n",
      "False\n"
     ]
    }
   ],
   "source": [
    "vidcap = cv2.VideoCapture(\"./test_video.mp4\")\n",
    "\n",
    "test_image_set = []\n",
    "count = 0\n",
    "frame_count = 0\n",
    "\n",
    "while(vidcap.isOpened):\n",
    "    ret, image = vidcap.read()\n",
    "    print(ret)\n",
    "    if ret:\n",
    "        count +=1\n",
    "        if count%2 == 0:\n",
    "            frame_count+=1\n",
    "            test_image_set.append(image)\n",
    "            print(f\"frame {frame_count}\")\n",
    "    else:\n",
    "            break\n",
    "vidcap.release()"
   ]
  },
  {
   "cell_type": "code",
   "execution_count": 40,
   "metadata": {},
   "outputs": [],
   "source": [
    "class Clustering:\n",
    "    def __init__(self,train_x):\n",
    "        self.numCluster = 1\n",
    "        self.Cluster = []\n",
    "        self.centroid = []\n",
    "        self.a = 6.0\n",
    "        self.learn(train_x)\n",
    "    def learn(self,train_x):\n",
    "        self.Cluster.append([train_x[0]])\n",
    "        hist = cv2.calcHist([train_x[0]],[0],None,[256],[0,256])\n",
    "        self.centroid.append([train_x[0],cv2.normalize(hist,hist).flatten(),\n",
    "                            greycomatrix(cv2.cvtColor(train_x[0],cv2.COLOR_RGB2GRAY),[1],[0],symmetric = True,normed = True)])\n",
    "        for idx,x in enumerate(train_x[1:]):\n",
    "            result = CombineSimilarity(x,self.centroid)\n",
    "            s = np.max(result)\n",
    "            maxidx = np.argmax(result)\n",
    "            print(f'{s} ')\n",
    "            if(s > self.a):\n",
    "                print(f'Cluster idx : {maxidx}')\n",
    "                self.Cluster[maxidx].append(x)\n",
    "                numFrame = len(self.Cluster[maxidx])\n",
    "                hist = cv2.calcHist([self.Cluster[maxidx][numFrame//2]],[0],None,[256],[0,256])\n",
    "                self.centroid[maxidx] = [self.Cluster[maxidx][numFrame//2],cv2.normalize(hist,hist).flatten(),\n",
    "                                         greycomatrix(cv2.cvtColor(self.Cluster[maxidx][numFrame//2],cv2.COLOR_RGB2GRAY),[1],[0],symmetric = True,normed = True)]\n",
    "            else:\n",
    "                print(f'Cluster idx : {self.numCluster}')\n",
    "                self.Cluster.append([x])\n",
    "                self.numCluster+=1\n",
    "                hist = cv2.calcHist([x],[0],None,[256],[0,256])\n",
    "                self.centroid.append([x,cv2.normalize(hist,hist).flatten(),\n",
    "                            greycomatrix(cv2.cvtColor(x,cv2.COLOR_RGB2GRAY),[1],[0],symmetric = True,normed = True)])\n"
   ]
  },
  {
   "cell_type": "code",
   "execution_count": 41,
   "metadata": {
    "scrolled": false
   },
   "outputs": [
    {
     "name": "stdout",
     "output_type": "stream",
     "text": [
      "5.957336332274748 \n",
      "Cluster idx : 1\n",
      "5.820820502410322 \n",
      "Cluster idx : 2\n",
      "5.764163916207373 \n",
      "Cluster idx : 3\n",
      "5.689494684887781 \n",
      "Cluster idx : 4\n",
      "5.668430385194835 \n",
      "Cluster idx : 5\n",
      "5.593870942926287 \n",
      "Cluster idx : 6\n",
      "5.543987923172604 \n",
      "Cluster idx : 7\n",
      "5.540677285640648 \n",
      "Cluster idx : 8\n",
      "5.493385621790115 \n",
      "Cluster idx : 9\n",
      "5.3868896875227135 \n",
      "Cluster idx : 10\n",
      "5.3735676262646574 \n",
      "Cluster idx : 11\n",
      "5.331273797793678 \n",
      "Cluster idx : 12\n",
      "5.38998808324195 \n",
      "Cluster idx : 13\n",
      "5.381388008637906 \n",
      "Cluster idx : 14\n",
      "5.371873478461454 \n",
      "Cluster idx : 15\n",
      "5.328080139607286 \n",
      "Cluster idx : 16\n",
      "5.329979452863629 \n",
      "Cluster idx : 17\n",
      "5.288860997455159 \n",
      "Cluster idx : 18\n",
      "5.222740581313544 \n",
      "Cluster idx : 19\n",
      "5.262373121013777 \n",
      "Cluster idx : 20\n",
      "5.269448754593032 \n",
      "Cluster idx : 21\n",
      "5.289206518913302 \n",
      "Cluster idx : 22\n",
      "5.482122255536453 \n",
      "Cluster idx : 23\n",
      "5.756258895279101 \n",
      "Cluster idx : 24\n",
      "7.031718901954828 \n",
      "Cluster idx : 24\n",
      "7.247357722789325 \n",
      "Cluster idx : 24\n",
      "6.887788831730867 \n",
      "Cluster idx : 24\n",
      "6.607567911064102 \n",
      "Cluster idx : 24\n",
      "6.109871513921641 \n",
      "Cluster idx : 24\n",
      "5.885634063281803 \n",
      "Cluster idx : 25\n",
      "7.036158790080287 \n",
      "Cluster idx : 25\n",
      "7.518948455248426 \n",
      "Cluster idx : 25\n",
      "7.447091913693242 \n",
      "Cluster idx : 25\n",
      "7.673098703599989 \n",
      "Cluster idx : 25\n",
      "7.358683065037928 \n",
      "Cluster idx : 25\n",
      "7.551172343246995 \n",
      "Cluster idx : 25\n",
      "7.301960434526059 \n",
      "Cluster idx : 25\n",
      "7.291700955249191 \n",
      "Cluster idx : 25\n",
      "6.942144720598506 \n",
      "Cluster idx : 25\n",
      "7.213925026952691 \n",
      "Cluster idx : 25\n",
      "7.460862254604391 \n",
      "Cluster idx : 25\n",
      "7.493638902105772 \n",
      "Cluster idx : 25\n",
      "7.160786717005333 \n",
      "Cluster idx : 25\n",
      "6.934298215847471 \n",
      "Cluster idx : 25\n",
      "6.8941262536858146 \n",
      "Cluster idx : 25\n",
      "6.311012831480731 \n",
      "Cluster idx : 25\n",
      "6.126196281570853 \n",
      "Cluster idx : 25\n",
      "5.7485128340283875 \n",
      "Cluster idx : 26\n",
      "8.248002504775542 \n",
      "Cluster idx : 26\n",
      "7.769829609101224 \n",
      "Cluster idx : 26\n",
      "7.558325735467058 \n",
      "Cluster idx : 26\n",
      "8.07800609266494 \n",
      "Cluster idx : 26\n",
      "8.035684205820917 \n",
      "Cluster idx : 26\n",
      "8.232622072323833 \n",
      "Cluster idx : 26\n",
      "8.163437528411702 \n",
      "Cluster idx : 26\n",
      "8.302637659021187 \n",
      "Cluster idx : 26\n",
      "8.217071382943649 \n",
      "Cluster idx : 26\n",
      "8.304136250910066 \n",
      "Cluster idx : 26\n",
      "8.358029010410482 \n",
      "Cluster idx : 26\n",
      "8.515774980055454 \n",
      "Cluster idx : 26\n",
      "8.284007496168728 \n",
      "Cluster idx : 26\n",
      "8.257971701007472 \n",
      "Cluster idx : 26\n",
      "8.250663374282473 \n",
      "Cluster idx : 26\n",
      "8.148974129250547 \n",
      "Cluster idx : 26\n",
      "7.824241312746526 \n",
      "Cluster idx : 26\n",
      "7.40679294509091 \n",
      "Cluster idx : 26\n",
      "7.221244483533803 \n",
      "Cluster idx : 26\n",
      "7.05639509611596 \n",
      "Cluster idx : 26\n",
      "7.023519906781822 \n",
      "Cluster idx : 26\n",
      "7.000582880042422 \n",
      "Cluster idx : 26\n",
      "6.925267435344227 \n",
      "Cluster idx : 26\n",
      "6.71752840024069 \n",
      "Cluster idx : 26\n",
      "6.512955286201488 \n",
      "Cluster idx : 26\n",
      "6.3313920986659875 \n",
      "Cluster idx : 26\n",
      "6.2722710238586545 \n",
      "Cluster idx : 26\n",
      "6.368144044223156 \n",
      "Cluster idx : 25\n",
      "6.6188753123285755 \n",
      "Cluster idx : 25\n",
      "7.104896436697382 \n",
      "Cluster idx : 25\n",
      "7.541542202603525 \n",
      "Cluster idx : 25\n",
      "7.511832801509582 \n",
      "Cluster idx : 25\n",
      "7.24528652631234 \n",
      "Cluster idx : 25\n",
      "6.815104671774735 \n",
      "Cluster idx : 25\n",
      "6.713591213738672 \n",
      "Cluster idx : 25\n",
      "6.476953140527098 \n",
      "Cluster idx : 24\n",
      "5.947501887704455 \n",
      "Cluster idx : 27\n",
      "6.618471350485908 \n",
      "Cluster idx : 27\n",
      "6.646585676260949 \n",
      "Cluster idx : 27\n",
      "6.267533299766884 \n",
      "Cluster idx : 24\n",
      "6.049906873776914 \n",
      "Cluster idx : 25\n",
      "6.02855884922185 \n",
      "Cluster idx : 25\n",
      "6.325471681365332 \n",
      "Cluster idx : 25\n"
     ]
    }
   ],
   "source": [
    "cl = Clustering(test_image_set)"
   ]
  },
  {
   "cell_type": "code",
   "execution_count": 42,
   "metadata": {},
   "outputs": [
    {
     "name": "stdout",
     "output_type": "stream",
     "text": [
      "25\n",
      "26\n"
     ]
    }
   ],
   "source": [
    "count = 0\n",
    "for i in range(len(cl.centroid)):\n",
    "    if len(cl.Cluster[i]) >= len(test_image_set)*0.1:\n",
    "        print(i)\n",
    "        cv2.imwrite('test_image_' + str(count) + '.jpg',cl.centroid[i][0])\n",
    "        count += 1"
   ]
  },
  {
   "cell_type": "code",
   "execution_count": null,
   "metadata": {},
   "outputs": [],
   "source": []
  }
 ],
 "metadata": {
  "kernelspec": {
   "display_name": "Python 3",
   "language": "python",
   "name": "python3"
  },
  "language_info": {
   "codemirror_mode": {
    "name": "ipython",
    "version": 3
   },
   "file_extension": ".py",
   "mimetype": "text/x-python",
   "name": "python",
   "nbconvert_exporter": "python",
   "pygments_lexer": "ipython3",
   "version": "3.7.6"
  }
 },
 "nbformat": 4,
 "nbformat_minor": 4
}

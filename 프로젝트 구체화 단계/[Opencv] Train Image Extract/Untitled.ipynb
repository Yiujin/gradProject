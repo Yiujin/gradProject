{
 "cells": [
  {
   "cell_type": "code",
   "execution_count": 1,
   "metadata": {},
   "outputs": [
    {
     "name": "stdout",
     "output_type": "stream",
     "text": [
      "0 image saved.\n",
      "20 image saved.\n",
      "40 image saved.\n",
      "60 image saved.\n",
      "80 image saved.\n",
      "100 image saved.\n",
      "120 image saved.\n",
      "140 image saved.\n",
      "160 image saved.\n",
      "180 image saved.\n",
      "200 image saved.\n",
      "220 image saved.\n",
      "240 image saved.\n",
      "260 image saved.\n",
      "280 image saved.\n",
      "300 image saved.\n",
      "320 image saved.\n",
      "340 image saved.\n",
      "360 image saved.\n",
      "380 image saved.\n",
      "Video read is Failed.\n"
     ]
    }
   ],
   "source": [
    "from ImageMake import videoToimage\n",
    "\n",
    "video_path = \"./source/\"\n",
    "save_path = \"./image/\"\n",
    "file_name = \"test_video.mp4\"\n",
    "\n",
    "videoToimage(video_path + file_name, save_path)"
   ]
  },
  {
   "cell_type": "code",
   "execution_count": null,
   "metadata": {},
   "outputs": [],
   "source": []
  }
 ],
 "metadata": {
  "kernelspec": {
   "display_name": "Python [conda env:gp] *",
   "language": "python",
   "name": "conda-env-gp-py"
  },
  "language_info": {
   "codemirror_mode": {
    "name": "ipython",
    "version": 3
   },
   "file_extension": ".py",
   "mimetype": "text/x-python",
   "name": "python",
   "nbconvert_exporter": "python",
   "pygments_lexer": "ipython3",
   "version": "3.7.7"
  }
 },
 "nbformat": 4,
 "nbformat_minor": 4
}

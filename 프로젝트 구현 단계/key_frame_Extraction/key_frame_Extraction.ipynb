{
 "cells": [
  {
   "cell_type": "code",
   "execution_count": 58,
   "metadata": {},
   "outputs": [],
   "source": [
    "import cv2\n",
    "import numpy as np\n",
    "from sklearn.preprocessing import MinMaxScaler\n",
    "from skimage.feature import greycomatrix,greycoprops\n",
    "\n",
    "class Key_Frame_Extraction:\n",
    "    def __init__(self,offset):\n",
    "        self.numCluster = 1\n",
    "        self.Cluster = []\n",
    "        self.centroid = []\n",
    "        self.a = offset\n",
    "\n",
    "    def get_Frame(self,video_path):\n",
    "        vidcap = cv2.VideoCapture(video_path)\n",
    "        test_image_set = []\n",
    "        count = 0\n",
    "        frame_count = 0\n",
    "        while(vidcap.isOpened):\n",
    "            ret, image = vidcap.read()\n",
    "            #print(ret)\n",
    "            if ret:\n",
    "                count +=1\n",
    "                if count%2 == 0:\n",
    "                    frame_count+=1\n",
    "                    test_image_set.append(image)\n",
    "                    #print(f\"frame {frame_count}\")\n",
    "            else:\n",
    "                    break\n",
    "        vidcap.release()\n",
    "        return test_image_set\n",
    "        \n",
    "    def CombineSimilarity(self,img,centroid):\n",
    "        hist = cv2.calcHist([img],[0],None,[256],[0,256])\n",
    "        hist = cv2.normalize(hist,hist).flatten()\n",
    "        HisSimilarity = np.array([ cv2.compareHist(hist,x[1],cv2.HISTCMP_INTERSECT) for x in centroid])\n",
    "\n",
    "        glcm= greycomatrix(cv2.cvtColor(img,cv2.COLOR_RGB2GRAY),[1],[0],symmetric = True,normed = True)\n",
    "        GLCMSimilarity = np.array([np.sum((glcm - x[2])**2)**0.5 for x in centroid])\n",
    "        return 0.7*HisSimilarity + 0.3*GLCMSimilarity\n",
    "    \n",
    "    def get_KeyFrame(self,frame_set):\n",
    "        train_x = frame_set\n",
    "        \n",
    "        self.Cluster.append([train_x[0]])\n",
    "        hist = cv2.calcHist([train_x[0]],[0],None,[256],[0,256])\n",
    "        self.centroid.append([train_x[0],cv2.normalize(hist,hist).flatten(),\n",
    "                            greycomatrix(cv2.cvtColor(train_x[0],cv2.COLOR_RGB2GRAY),[1],[0],symmetric = True,normed = True)])\n",
    "        for idx,x in enumerate(train_x[1:]):\n",
    "            result = self.CombineSimilarity(x,self.centroid)\n",
    "            s = np.max(result)\n",
    "            maxidx = np.argmax(result)\n",
    "            #print(f'{s} ')\n",
    "            if(s > self.a):\n",
    "                #print(f'Cluster idx : {maxidx}')\n",
    "                self.Cluster[maxidx].append(x)\n",
    "                numFrame = len(self.Cluster[maxidx])\n",
    "                hist = cv2.calcHist([self.Cluster[maxidx][numFrame//2]],[0],None,[256],[0,256])\n",
    "                self.centroid[maxidx] = [self.Cluster[maxidx][numFrame//2],cv2.normalize(hist,hist).flatten(),\n",
    "                                         greycomatrix(cv2.cvtColor(self.Cluster[maxidx][numFrame//2],cv2.COLOR_RGB2GRAY),[1],[0],symmetric = True,normed = True)]\n",
    "            else:\n",
    "                #print(f'Cluster idx : {self.numCluster}')\n",
    "                self.Cluster.append([x])\n",
    "                self.numCluster+=1\n",
    "                hist = cv2.calcHist([x],[0],None,[256],[0,256])\n",
    "                self.centroid.append([x,cv2.normalize(hist,hist).flatten(),\n",
    "                            greycomatrix(cv2.cvtColor(x,cv2.COLOR_RGB2GRAY),[1],[0],symmetric = True,normed = True)])\n",
    "        result= []\n",
    "        for i in range(len(cl.centroid)):\n",
    "            if len(cl.Cluster[i]) >= len(train_x)*0.01:\n",
    "                result.append(cl.centroid[i][0])\n",
    "        return result\n"
   ]
  },
  {
   "cell_type": "code",
   "execution_count": 59,
   "metadata": {},
   "outputs": [],
   "source": [
    "cl = Key_Frame_Extraction(offset = 8)\n",
    "Frame_set = cl.get_Frame(\"./60sec.mp4\")"
   ]
  },
  {
   "cell_type": "code",
   "execution_count": 61,
   "metadata": {},
   "outputs": [],
   "source": [
    "Key_Frame = cl.get_KeyFrame(Frame_set)"
   ]
  },
  {
   "cell_type": "code",
   "execution_count": 62,
   "metadata": {},
   "outputs": [
    {
     "data": {
      "text/plain": [
       "12"
      ]
     },
     "execution_count": 62,
     "metadata": {},
     "output_type": "execute_result"
    }
   ],
   "source": [
    "len(Key_Frame)"
   ]
  },
  {
   "cell_type": "code",
   "execution_count": 63,
   "metadata": {},
   "outputs": [
    {
     "name": "stdout",
     "output_type": "stream",
     "text": [
      "0\n",
      "1\n",
      "2\n",
      "3\n",
      "4\n",
      "5\n",
      "6\n",
      "7\n",
      "8\n",
      "9\n",
      "10\n",
      "11\n"
     ]
    }
   ],
   "source": [
    "count = 0\n",
    "for i in range(len(Key_Frame)):\n",
    "    print(i)\n",
    "    cv2.imwrite('60_8_0.01_' + str(count) + '.jpg',Key_Frame[i])\n",
    "    count += 1"
   ]
  },
  {
   "cell_type": "code",
   "execution_count": null,
   "metadata": {},
   "outputs": [],
   "source": []
  }
 ],
 "metadata": {
  "kernelspec": {
   "display_name": "Python 3",
   "language": "python",
   "name": "python3"
  },
  "language_info": {
   "codemirror_mode": {
    "name": "ipython",
    "version": 3
   },
   "file_extension": ".py",
   "mimetype": "text/x-python",
   "name": "python",
   "nbconvert_exporter": "python",
   "pygments_lexer": "ipython3",
   "version": "3.7.7"
  }
 },
 "nbformat": 4,
 "nbformat_minor": 4
}

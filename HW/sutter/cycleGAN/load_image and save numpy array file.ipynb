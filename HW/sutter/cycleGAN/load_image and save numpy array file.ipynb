{
 "cells": [
  {
   "cell_type": "code",
   "execution_count": 1,
   "metadata": {},
   "outputs": [
    {
     "name": "stderr",
     "output_type": "stream",
     "text": [
      "Using TensorFlow backend.\n"
     ]
    }
   ],
   "source": [
    "from os import listdir\n",
    "from numpy import asarray\n",
    "from numpy import vstack\n",
    "from keras.preprocessing.image import img_to_array\n",
    "from keras.preprocessing.image import load_img\n",
    "from numpy import savez_compressed"
   ]
  },
  {
   "cell_type": "markdown",
   "metadata": {},
   "source": [
    "# load image"
   ]
  },
  {
   "cell_type": "code",
   "execution_count": 2,
   "metadata": {},
   "outputs": [],
   "source": [
    "def load_images(path, size = (256,256)):\n",
    "    data_list = list()\n",
    "    for filename in listdir(path):\n",
    "        pixels = load_img(path+filename, target_size=size)\n",
    "        pixels = img_to_array(pixels)\n",
    "        data_list.append(pixels)\n",
    "    return asarray(data_list)"
   ]
  },
  {
   "cell_type": "code",
   "execution_count": 3,
   "metadata": {},
   "outputs": [
    {
     "name": "stdout",
     "output_type": "stream",
     "text": [
      "Loaded dataA :  (1187, 256, 256, 3)\n",
      "Loaded dataB :  (1474, 256, 256, 3)\n",
      "Saved dataset:  horse2zebra_256.npz\n"
     ]
    }
   ],
   "source": [
    "path = 'horse2zebra/'\n",
    "dataA1 = load_images(path + 'trainA/')\n",
    "dataAB = load_images(path + 'testA/')\n",
    "dataA = vstack((dataA1,dataAB))            #두 배열을 세로로 이어붙임\n",
    "print('Loaded dataA : ',dataA.shape)\n",
    "dataB1 = load_images(path + 'trainB/')\n",
    "dataB2 = load_images(path + 'testB/')\n",
    "dataB = vstack((dataB1,dataB2))\n",
    "print(\"Loaded dataB : \",dataB.shape)\n",
    "filename = 'horse2zebra_256.npz'\n",
    "savez_compressed(filename,dataA,dataB)      #여러개의 배열을 하나의 압축된 numpy파일로 저장\n",
    "print('Saved dataset: ',filename)"
   ]
  },
  {
   "cell_type": "code",
   "execution_count": null,
   "metadata": {},
   "outputs": [],
   "source": []
  }
 ],
 "metadata": {
  "kernelspec": {
   "display_name": "Python 3",
   "language": "python",
   "name": "python3"
  },
  "language_info": {
   "codemirror_mode": {
    "name": "ipython",
    "version": 3
   },
   "file_extension": ".py",
   "mimetype": "text/x-python",
   "name": "python",
   "nbconvert_exporter": "python",
   "pygments_lexer": "ipython3",
   "version": "3.7.6"
  }
 },
 "nbformat": 4,
 "nbformat_minor": 4
}

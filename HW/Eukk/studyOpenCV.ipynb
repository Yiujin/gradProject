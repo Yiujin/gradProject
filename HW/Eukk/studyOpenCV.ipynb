{
 "cells": [
  {
   "cell_type": "code",
   "execution_count": 1,
   "metadata": {},
   "outputs": [],
   "source": [
    "import cv2"
   ]
  },
  {
   "cell_type": "markdown",
   "metadata": {},
   "source": [
    "### https://zzsza.github.io/data/2018/01/23/opencv-1/"
   ]
  },
  {
   "cell_type": "code",
   "execution_count": 4,
   "metadata": {},
   "outputs": [],
   "source": [
    "img_source = \"withChun.jpg\"\n",
    "\n",
    "img = cv2.imread(img_source)\n",
    "img = cv2.resize(img, (800, 500), interpolation = cv2.INTER_LINEAR) \n",
    "cv2.imshow('cute Eukk and Chun', img)\n",
    "k = cv2.waitKey(0)\n",
    "if k == 27: #esc key\n",
    "    cv2.destroyAllWindows()\n",
    "elif k == ord('s'): #'s' key\n",
    "    cv2.imwrite('imgWrite', img)\n",
    "    cv2.destroyAllWindows()"
   ]
  },
  {
   "cell_type": "markdown",
   "metadata": {},
   "source": [
    "### https://zzsza.github.io/data/2018/01/23/opencv-1/"
   ]
  },
  {
   "cell_type": "code",
   "execution_count": 5,
   "metadata": {},
   "outputs": [],
   "source": [
    "# !curl -L -o ./haarcascade_frontalface_default.xml https://raw.githubusercontent.com/opencv/opencv/master/data/haarcascades/haarcascade_frontalface_default.xml"
   ]
  },
  {
   "cell_type": "code",
   "execution_count": null,
   "metadata": {},
   "outputs": [],
   "source": []
  }
 ],
 "metadata": {
  "kernelspec": {
   "display_name": "Python 3",
   "language": "python",
   "name": "python3"
  },
  "language_info": {
   "codemirror_mode": {
    "name": "ipython",
    "version": 3
   },
   "file_extension": ".py",
   "mimetype": "text/x-python",
   "name": "python",
   "nbconvert_exporter": "python",
   "pygments_lexer": "ipython3",
   "version": "3.7.3"
  }
 },
 "nbformat": 4,
 "nbformat_minor": 2
}
